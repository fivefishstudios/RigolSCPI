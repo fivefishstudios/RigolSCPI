{
 "cells": [
  {
   "cell_type": "code",
   "execution_count": null,
   "metadata": {},
   "outputs": [],
   "source": [
    "# SIGNAL GENERATOR  DG1022Z \n",
    "# --------------------------\n",
    "# Use PYTHON 3.9.7 (under PyVisa environment)\n",
    "import numpy as np\n",
    "import pyvisa\n",
    "import time\n",
    "import csv \n",
    "import matplotlib.pyplot as plt\n",
    "from matplotlib.pyplot import figure \n",
    "%matplotlib inline\n",
    "# figure(figsize=(18, 16), dpi=80)\n",
    "\n",
    "rm = pyvisa.ResourceManager()\n",
    "res = rm.list_resources()\n",
    "print(res)\n",
    "# rigol = rm.open_resource(res[0])        # oscilloscope \n",
    "# rigol = rm.open_resource(res[1])        # function generator\n",
    "\n",
    "function_gen_address = res[1]\n",
    "# function_gen_address = 'TCPIP0::192.168.0.31::INSTR'      # alternate method\n",
    "rigol = rm.open_resource(function_gen_address)\n",
    "\n",
    "# SANITY CHECK, TO VERIFY A SUCCESSFUL CONNECTION\n",
    "# WE SHOULD BE GETTING CORRECT VALUES BACK FROM THE FUNCTION GENERATOR\n",
    "print('Device Name: ', rigol.query('*IDN?'))\n",
    "\n",
    "# settings \n",
    "rigol.write('source1:apply:square 1000,5.0,0,0')\n",
    "rigol.write('source2:apply:triangle 2000,2.5,0,90')\n",
    "\n",
    "# turn ON\n",
    "rigol.write('output1 ON')\n",
    "rigol.write('output2 ON')\n",
    "\n",
    "# query settings\n",
    "print(rigol.query('source1:apply?'))\n",
    "print(rigol.query('source2:apply?'))"
   ]
  }
 ],
 "metadata": {
  "language_info": {
   "name": "python"
  },
  "orig_nbformat": 4
 },
 "nbformat": 4,
 "nbformat_minor": 2
}
